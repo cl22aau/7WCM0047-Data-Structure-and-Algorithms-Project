{
 "cells": [
  {
   "cell_type": "code",
   "execution_count": 26,
   "metadata": {},
   "outputs": [],
   "source": [
    "# author : LEUNG CHUN HEI\n",
    "# date : 05/01/2024\n",
    "# SRN : 21079733\n",
    "# This program sorts the words \" London \" , \" Canterbury \" , \" York \" and \" Leicester \" by their length(in ascending order ) and prints the result out.\n",
    "# First , we define our input as an array of strings\n",
    "\n",
    "#cities = [\" London \", \" Canterbury \", \" York \", \" Leicester \"]\n",
    "\n",
    "# You can also try it with a very long list . Uncomment this line to do so .\n",
    "#7WCM0047 Data Structure and Algorithms Project Specification\n",
    "\n",
    "cities = [ \" Lancaster \", \" Sunderland \", \" Wo lv er ha mp to n \", \" Nottingham \", \" Oxford \", \" Plymouth \",\n",
    "\" Salisbury \", \" Salford \", \" Wakefield \", \n",
    "\" Lichfield \", \"Wells \", \" Preston \", \" Brighton and Hove \", \"St Albans \", \" Kingston upon Hull \", \n",
    "\" Chichester \", \" Durham \", \" Liverpool \", \"Bath \", \n",
    "\" Bradford \", \" Cambridge \", \"Ely \", \"York \", \" Exeter \", \" Birmingham \", \" Carlisle \", \" Portsmouth \", \n",
    "\" Chester \", \"Ripon \", \" Coventry \", \" Gloucester \", \n",
    "\" Sheffield \", \" Winchester \", \" Lincoln \", \" Canterbury \", \" Westminster \", \n",
    "\" Newcastle upon Tyne \", \" Peterborough \", \" Worcester \", \"Leeds \", \" Norwich \", \"Stoke -on - Trent \", \" Southampton \",\n",
    "\" Bristol \", \"Derby \", \" Truro \", \" Manchester \", \" Hereford \", \"City of London \", \" Leicester \"]\n"
   ]
  },
  {
   "cell_type": "code",
   "execution_count": 28,
   "metadata": {},
   "outputs": [
    {
     "name": "stdout",
     "output_type": "stream",
     "text": [
      "\n",
      " The ordered list is:\n",
      "[]\n",
      " The list had 0 cities and I ordered it in 0 steps .\n",
      "I did 0 swaps in 1 rounds .\n"
     ]
    }
   ],
   "source": [
    "# 2b\n",
    "cities = [] # Empty list for storage\n",
    "city : str = \" \" \n",
    "while city != \"\": # Stop asking user input if empty string pass\n",
    "    city = input() # Storage of user input\n",
    "    if city != \"\": # Only insert non empty string value\n",
    "        cities.append(city) # Insert the new city to the list\n",
    "\n",
    "# Initialize our loop variables\n",
    "i = 0\n",
    "swaps = True\n",
    "number_of_cities = len( cities ) # len () of a list gives you the number of elements in it\n",
    "# len () of a string will give you the length of it\n",
    "number_of_steps = 0\n",
    "number_of_swaps = 0\n",
    "number_of_rounds = 0\n",
    "# Sort using bubble sort\n",
    "while swaps : # O(1)\n",
    "    swaps = False\n",
    "    number_of_rounds = number_of_rounds + 1\n",
    "    for i in range (0 , number_of_cities - 1): # O(N)\n",
    "        if len ( cities [i]) > len ( cities [i+1]):\n",
    "            temp = cities [i+1]\n",
    "            cities [i+1] = cities [i]\n",
    "            cities [i] = temp\n",
    "            swaps = True\n",
    "            number_of_swaps = number_of_swaps + 1\n",
    "            number_of_steps = number_of_steps + 1\n",
    "\n",
    "print (\"\")\n",
    "print (\" The ordered list is:\")\n",
    "print (str( cities ))\n",
    "print (\" The list had \" + str ( number_of_cities ) + \" cities and I ordered it in \" + str(\n",
    "number_of_steps ) + \" steps .\")\n",
    "print (\"I did \" + str ( number_of_swaps ) + \" swaps in \" + str( number_of_rounds ) + \" rounds .\")"
   ]
  },
  {
   "cell_type": "code",
   "execution_count": 27,
   "metadata": {},
   "outputs": [
    {
     "name": "stdout",
     "output_type": "stream",
     "text": [
      "['Ely ', 'Bath ', 'York ', 'Wells ', 'Ripon ', 'Leeds ', 'Derby ', ' Truro ', ' Oxford ', ' Durham ', ' Exeter ', ' Salford ', ' Preston ', ' Chester ', ' Lincoln ', ' Norwich ', ' Bristol ', ' Plymouth ', 'St Albans ', ' Bradford ', ' Carlisle ', ' Coventry ', ' Hereford ', ' Lancaster ', ' Salisbury ', ' Wakefield ', ' Lichfield ', ' Liverpool ', ' Cambridge ', ' Sheffield ', ' Worcester ', ' Leicester ', ' Sunderland ', ' Nottingham ', ' Chichester ', ' Birmingham ', ' Portsmouth ', ' Gloucester ', ' Winchester ', ' Canterbury ', ' Manchester ', ' Westminster ', ' Southampton ', ' Peterborough ', 'City of London ', 'Stoke -on - Trent ', ' Brighton and Hove ', ' Kingston upon Hull ', ' Wo lv er ha mp to n ', ' Newcastle upon Tyne ']\n"
     ]
    }
   ],
   "source": [
    "# 2c\n",
    "cities = [] # Empty list for storage\n",
    "city : str = \" \" # Delare the variable city here\n",
    "while city != \"\": # Stop asking user input if empty string pass\n",
    "    city = input() # Storage of user input\n",
    "    if city != \"\": # Only insert non empty string value\n",
    "        cities.append(city) # Insert the new city to the list\n",
    "\n",
    "# Insertion Sort\n",
    "def InsertionSort(array : list):\n",
    "    for i in range(1,len(array)):\n",
    "        temp = array[i] # Store current temp element\n",
    "        j = i - 1 # current element - 1 (left element index)\n",
    "        while j >= 0 and len(array[j]) > len(temp): # while length of left element > current element and index j not -ve\n",
    "            array[j+1] = array[j] # left element move to right\n",
    "            j-=1 # index j - 1\n",
    "        array[j+1] = temp # j + 1 will be the location for our temp element where left element length is smaller\n",
    "    print(array) # Print sorted array\n",
    "\n",
    "InsertionSort(cities)"
   ]
  }
 ],
 "metadata": {
  "kernelspec": {
   "display_name": "Python 3",
   "language": "python",
   "name": "python3"
  },
  "language_info": {
   "codemirror_mode": {
    "name": "ipython",
    "version": 3
   },
   "file_extension": ".py",
   "mimetype": "text/x-python",
   "name": "python",
   "nbconvert_exporter": "python",
   "pygments_lexer": "ipython3",
   "version": "3.9.0"
  }
 },
 "nbformat": 4,
 "nbformat_minor": 2
}
