{
 "cells": [
  {
   "cell_type": "code",
   "execution_count": 22,
   "metadata": {},
   "outputs": [
    {
     "name": "stdout",
     "output_type": "stream",
     "text": [
      "['Hello', 'I', 'm', 'a', 'string', 'Hello']\n",
      "Hello\n"
     ]
    }
   ],
   "source": [
    "# author : LEUNG CHUN HEI\n",
    "# date : 05/01/2024\n",
    "# SRN : 21079733\n",
    "# 3\n",
    "\n",
    "import re\n",
    "\n",
    "text = \"Hello, I'm a string! Hello\"\n",
    "words = re.findall(r\"\\w+\", text) # Regular expression where remove all punctuation and space\n",
    "print(words) # print the list of words\n",
    "word_table = {} # table for every word and its count\n",
    "max_count = 0 # the count for the most frequent word\n",
    "\n",
    "for word in words: # Iterate through the array and store the word into word table\n",
    "    if word not in word_table.keys():\n",
    "        word_table[word] = 1 # new word, new record\n",
    "    else:\n",
    "        word_table[word] += 1 # existing word, count += 1\n",
    "        if word_table[word] > max_count:\n",
    "            max_count = word_table[word] # store the count for the most frequent word\n",
    "\n",
    "for freq_word in word_table: # Iterate through the dictionary and look up the most frequent word using max_count\n",
    "    if word_table[freq_word] == max_count: \n",
    "        print(word) # print out the word that most frequent occur"
   ]
  }
 ],
 "metadata": {
  "kernelspec": {
   "display_name": "Python 3",
   "language": "python",
   "name": "python3"
  },
  "language_info": {
   "codemirror_mode": {
    "name": "ipython",
    "version": 3
   },
   "file_extension": ".py",
   "mimetype": "text/x-python",
   "name": "python",
   "nbconvert_exporter": "python",
   "pygments_lexer": "ipython3",
   "version": "3.9.0"
  }
 },
 "nbformat": 4,
 "nbformat_minor": 2
}
