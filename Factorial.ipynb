{
 "cells": [
  {
   "cell_type": "code",
   "execution_count": 1,
   "metadata": {},
   "outputs": [
    {
     "name": "stdout",
     "output_type": "stream",
     "text": [
      "Please provide a positive integer\n",
      "1\n",
      "2\n",
      "6\n",
      "24\n",
      "120\n",
      "720\n",
      "5040\n",
      "Factorial of 7 =  5040\n"
     ]
    }
   ],
   "source": [
    "# author : LEUNG CHUN HEI\n",
    "# date : 05/01/2024\n",
    "# SRN : 21079733\n",
    "\n",
    "# 1\n",
    "\n",
    "print(\"Please provide a positive integer\") # Ask the user for a positive integer.\n",
    "num = int(input()) # Storage of user input\n",
    "while num < 0: # Check if the input value is not negative value\n",
    "    print(\"Input invalid\") \n",
    "    num = int(input()) # ask again if the user introduces any invalid value\n",
    "\n",
    "def factor(x : int):\n",
    "    if x <= 1: # Base case factorial 0 or 1 = 1\n",
    "        print(1)\n",
    "        return 1\n",
    "    else: # Recurisvely completer factorial > 1\n",
    "        n = x * factor(x-1) # Storage of the factorial result\n",
    "        print(n) # Print the value of n in each iteration\n",
    "        return n\n",
    "\n",
    "result = factor(num)\n",
    "print(f\"Factorial of {num} = \", result) # Display the result\n"
   ]
  },
  {
   "cell_type": "code",
   "execution_count": 20,
   "metadata": {},
   "outputs": [
    {
     "name": "stdout",
     "output_type": "stream",
     "text": [
      "Please provide a positive integer\n",
      "1\n",
      "2\n",
      "6\n",
      "24\n",
      "120\n",
      "720\n",
      "5040\n",
      "40320\n",
      "362880\n",
      "3628800\n",
      "39916800\n",
      "479001600\n",
      "6227020800\n",
      "87178291200\n",
      "1307674368000\n",
      "20922789888000\n",
      "355687428096000\n",
      "6402373705728000\n",
      "121645100408832000\n",
      "2432902008176640000\n",
      "51090942171709440000\n",
      "1124000727777607680000\n",
      "25852016738884976640000\n",
      "620448401733239439360000\n",
      "15511210043330985984000000\n",
      "403291461126605635584000000\n",
      "10888869450418352160768000000\n",
      "304888344611713860501504000000\n",
      "8841761993739701954543616000000\n",
      "265252859812191058636308480000000\n",
      "8222838654177922817725562880000000\n",
      "263130836933693530167218012160000000\n",
      "8683317618811886495518194401280000000\n",
      "Elapsed time: 0.0004942000000482949\n",
      "Factorial of 33 =  8683317618811886495518194401280000000\n"
     ]
    }
   ],
   "source": [
    "# 2b\n",
    "\n",
    "import time\n",
    "\n",
    "print(\"Please provide a positive integer\") # Ask the user for a positive integer.\n",
    "num = int(input()) # Storage of user input\n",
    "while num < 0: # Check if the input value is not negative value\n",
    "    print(\"Input invalid\") \n",
    "    num = int(input()) # ask again if the user introduces any invalid value\n",
    "\n",
    "def factor(x : int):\n",
    "    if x <= 1: # Base case factorial 0 or 1 = 1\n",
    "        print(1)\n",
    "        return 1\n",
    "    else: # Recurisvely completer factorial > 1\n",
    "        n = x * factor(x-1) # Storage of the factorial result\n",
    "        print(n) # Print the value of n in each iteration\n",
    "        return n\n",
    "\n",
    "t1 = time.perf_counter()\n",
    "result = factor(num)\n",
    "t2 = time.perf_counter()\n",
    "\n",
    "print(\"Elapsed time:\", t2-t1)\n",
    "print(f\"Factorial of {num} = \", result) # Display the result\n"
   ]
  }
 ],
 "metadata": {
  "kernelspec": {
   "display_name": "Python 3",
   "language": "python",
   "name": "python3"
  },
  "language_info": {
   "codemirror_mode": {
    "name": "ipython",
    "version": 3
   },
   "file_extension": ".py",
   "mimetype": "text/x-python",
   "name": "python",
   "nbconvert_exporter": "python",
   "pygments_lexer": "ipython3",
   "version": "3.9.0"
  }
 },
 "nbformat": 4,
 "nbformat_minor": 2
}
